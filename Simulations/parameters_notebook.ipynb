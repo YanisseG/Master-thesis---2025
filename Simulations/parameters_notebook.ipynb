{
 "cells": [
  {
   "cell_type": "code",
   "execution_count": 6,
   "id": "7c49d5a5",
   "metadata": {},
   "outputs": [],
   "source": [
    "import sys\n",
    "import os \n",
    "from param_customing import modify_parameters"
   ]
  },
  {
   "cell_type": "code",
   "execution_count": 7,
   "id": "87da03bd",
   "metadata": {},
   "outputs": [],
   "source": [
    "input_cfg = r\".\\RELN_NOTCH_LEC_clean.bnd.cfg\""
   ]
  },
  {
   "cell_type": "markdown",
   "id": "5500c940",
   "metadata": {},
   "source": [
    "## Non-parameterized at 50% initial states for all nodes"
   ]
  },
  {
   "cell_type": "code",
   "execution_count": 8,
   "id": "8121cf8d",
   "metadata": {},
   "outputs": [],
   "source": [
    "output_cfg = r\".\\Non_parameterized\\non_parameterized_parameters_50.bnd.cfg\"\n",
    "\n",
    "full_params = {\n",
    "    \"ATPc\": (0.5, 0.5), \"PSEN1\": (0.5, 0.5), \"ADAM10\": (0.5, 0.5), \"EP300s\": (0.5, 0.5), \n",
    "    \"PROTEASOMEControl\": (0.5, 0.5), \"CREBBPs\": (0.5, 0.5), \"DLL4\": (0.5, 0.5),\n",
    "    \"PSENEN\": (0.5, 0.5), \"FYNs\": (0.5, 0.5), \"MIB2\": (0.5, 0.5),\n",
    "    \"NEURL1\": (0.5, 0.5), \"ATPn\": (0.5, 0.5), \"KAT2Bs\": (0.5, 0.5), \"NEURL2\": (0.5, 0.5),\n",
    "    \"DLL3\": (0.5, 0.5), \"RELN\": (0.5, 0.5), \"Ubsc\": (0.5, 0.5), \"SH3KBP1\": (0.5, 0.5),\n",
    "    \"NCSTN\": (0.5, 0.5), \"PROCESS\": (0.5, 0.5), \"MIB1\": (0.5, 0.5), \"APH1B\": (0.5, 0.5),\n",
    "    \"Ubn\": (0.5, 0.5), \"NOTCH4\": (0.5, 0.5), \"NEURL4\": (0.5, 0.5), \"ADAM17\": (0.5, 0.5),\n",
    "    \"JAG2\": (0.5, 0.5), \"APH1A\": (0.5, 0.5), \"NOTCH3\": (0.5, 0.5), \"NOTCH1\": (0.5, 0.5),\n",
    "    \"PSEN2\": (0.5, 0.5), \"MAML1\": (0.5, 0.5), \"MAML2\": (0.5, 0.5), \"MAML3\": (0.5, 0.5), \n",
    "    \"NEURL3\": (0.5, 0.5), \"LRP8\": (0.5, 0.5), \"VLDLR\": (0.5, 0.5), \"NOTCH2\": (0.5, 0.5), \"DAB2\": (0.5, 0.5),\n",
    "    \"CDK8\": (0.5, 0.5), \"CCNC\": (0.5, 0.5), \"DLL1\": (0.5, 0.5), \"JAG1\": (0.5, 0.5), \"ZN2\": (0.5, 0.5), \"TBL1X\": (0.5, 0.5), \n",
    "    \"HDAC3\": (0.5, 0.5), \"SNW1\": (0.5, 0.5), \"NCOR1\": (0.5, 0.5), \"NCOR2\": (0.5, 0.5), \"RBPJ\": (0.5, 0.5), \n",
    "    \"SKP1\": (0.5, 0.5), \"CUL1\": (0.5, 0.5), \"RBX1\": (0.5, 0.5), \"FBXW7\": (0.5, 0.5),\n",
    "    \"ALPHA3\": (0.5, 0.5), \"ALPHA4\": (0.5, 0.5), \"ALPHA7\": (0.5, 0.5), \"OTHERS\": (0.5, 0.5),\n",
    "    \"CPX4232\": (0.5, 0.5), \"MAML\": (0.5, 0.5), \"NOTCH\": (0.5, 0.5), \"FYN\": (0.5, 0.5),\n",
    "    \"SHUTTLEc\": (0.5, 0.5), \"SHUTTLEn\": (0.5, 0.5), \"NICDc\": (0.5, 0.5), \"GAMMA\": (0.5, 0.5),\n",
    "    \"RELNR\": (0.5, 0.5), \"NICD_DAB2n\": (0.5, 0.5), \"FBXW7_SKP1_CUL1_RBX1\": (0.5, 0.5),\n",
    "    \"RBPJ_NCOR\": (0.5, 0.5), \"RBPJ_SNW1\": (0.5, 0.5), \"RELN_RELNR_DAB2\": (0.5, 0.5),\n",
    "    \"RELN_RELNR_DAB2p_SH3KBP1\": (0.5, 0.5), \"TARGET\": (0.5, 0.5),\n",
    "    \"RELN_RELNR_DAB2_SH3KBP1\": (0.5, 0.5), \"CPX2176\": (0.5, 0.5), \"RELN_RELNR\": (0.5, 0.5),\n",
    "    \"NICDpUb\": (0.5, 0.5), \"CDK8_CCNC\": (0.5, 0.5), \"NEXTt\": (0.5, 0.5), \"ADAM\": (0.5, 0.5),\n",
    "    \"NICD_DAB2c\": (0.5, 0.5), \"NICDp_FBXW7_SKP1_CUL1_RBX1\": (0.5, 0.5),\n",
    "    \"NOTCHcoactivator_CDK8_CCNC\": (0.5, 0.5), \"ADPc\": (0.5, 0.5), \"PROTEASOME\": (0.5, 0.5),\n",
    "    \"NICD_RBPJ_SNW1\": (0.5, 0.5), \"NOTCHLUb_NOTCH\": (0.5, 0.5), \"TBL1_HDAC3_NCOR\": (0.5, 0.5),\n",
    "    \"ADAM_ZN2\": (0.5, 0.5), \"CREBBP\": (0.5, 0.5), \"E3UbLIGASE\": (0.5, 0.5), \"DAB2cp\": (0.5, 0.5),\n",
    "    \"EP300\": (0.5, 0.5), \"CPX4233\": (0.5, 0.5), \"NICDn\": (0.5, 0.5), \"NOTCHLUb_NOTCHt\": (0.5, 0.5),\n",
    "    \"DAB2np\": (0.5, 0.5), \"NOTCHcoactivator\": (0.5, 0.5), \"NOTCHL\": (0.5, 0.5),\n",
    "    \"NOTCHL_NOTCH\": (0.5, 0.5), \"NICD_SHUTTLE\": (0.5, 0.5), \"CPX4231\": (0.5, 0.5),\n",
    "    \"ADPn\": (0.5, 0.5), \"NICDp\": (0.5, 0.5), \"NEXT\": (0.5, 0.5), \"KAT2B\": (0.5, 0.5),\n",
    "    \n",
    "    }\n",
    "\n",
    "modify_parameters(input_cfg, output_cfg, full_params)\n"
   ]
  },
  {
   "cell_type": "markdown",
   "id": "a080d0f9",
   "metadata": {},
   "source": [
    "## Randomly parameterized nodes as set for the DCMC25"
   ]
  },
  {
   "cell_type": "code",
   "execution_count": 9,
   "id": "2a225f98",
   "metadata": {},
   "outputs": [],
   "source": [
    "output_cfg = r\".\\Arbitrary\\arbitrary_parameters.bnd.cfg\"\n",
    "\n",
    "full_params = {\n",
    "    \"ATPc\": (0, 1), \"PSEN1\": (0, 1), \"ADAM10\": (0.5, 0.5), \"EP300s\": (0, 1), \n",
    "    \"PROTEASOMEControl\": (0.5, 0.5), \"CREBBPs\": (0, 1), \"DLL4\": (0.7, 0.3),\n",
    "    \"PSENEN\": (0, 1), \"FYNs\": (0, 1), \"MIB2\": (0.8, 0.2),\n",
    "    \"NEURL1\": (0.2, 0.8), \"ATPn\": (0, 1), \"KAT2Bs\": (0, 1), \"NEURL2\": (0.6, 0.4),\n",
    "    \"DLL3\": (0.6, 0.4), \"RELN\": (0, 1), \"Ubsc\": (0, 1), \"SH3KBP1\": (0, 1),\n",
    "    \"NCSTN\": (0, 1), \"PROCESS\": (0, 1), \"MIB1\": (1, 0), \"APH1B\": (0, 1),\n",
    "    \"Ubn\": (0, 1), \"NOTCH4\": (0.55, 0.45), \"NEURL4\": (0.8, 0.2), \"ADAM17\": (0.5, 0.5),\n",
    "    \"JAG2\": (0.9, 0.1), \"APH1A\": (0, 1), \"NOTCH3\": (1, 0), \"NOTCH1\": (0, 1),\n",
    "    \"PSEN2\": (0, 1), \"MAML1\": (0, 1), \"MAML2\": (0, 1), \"MAML3\": (0, 1), \"NEURL3\": (0.6, 0.4), \"LRP8\": (0.7, 0.3),\n",
    "    \"VLDLR\": (0, 1), \"NOTCH2\": (1, 0), \"DAB2\": (0, 1), \n",
    "    \"CDK8\": (0, 1), \"CCNC\": (0, 1), \"DLL1\": (0.2, 0.8), \"JAG1\": (0.5, 0.5), \"ZN2\": (0, 1), \"TBL1X\": (0, 1), \n",
    "    \"HDAC3\": (0, 1), \"SNW1\": (0, 1), \"NCOR1\": (0, 1), \"NCOR2\": (0, 1), \"RBPJ\": (0, 1), \n",
    "    \"SKP1\": (0, 1), \"CUL1\": (0, 1), \"RBX1\": (0, 1), \"FBXW7\": (0, 1),\n",
    "    \"ALPHA3\": (0, 1), \"ALPHA4\": (0, 1), \"ALPHA7\": (0, 1)}\n",
    "\n",
    "modify_parameters(input_cfg, output_cfg, full_params)\n"
   ]
  },
  {
   "cell_type": "markdown",
   "id": "0759fbe0",
   "metadata": {},
   "source": [
    "## Parameterized based on literature and gene expression global conclusion"
   ]
  },
  {
   "cell_type": "code",
   "execution_count": 10,
   "id": "2b6c7c91",
   "metadata": {},
   "outputs": [],
   "source": [
    "output_cfg = r\".\\Parameterized\\parameterized_semi_quantitative_parameters.bnd.cfg\"\n",
    "\n",
    "full_params = {\n",
    "    \"ATPc\": (0, 1), \"PSEN1\": (0.25, 0.75), \"ADAM10\": (0.25, 0.75), \"EP300s\": (0, 1), \n",
    "    \"PROTEASOMEControl\": (0.5, 0.5), \"CREBBPs\": (0, 1), \"DLL4\": (0, 1),\n",
    "    \"PSENEN\": (0.25, 0.75), \"FYNs\": (0.5, 0.5), \"MIB2\": (0, 1),\n",
    "    \"NEURL1\": (0.2, 0.8), \"ATPn\": (0, 1), \"KAT2Bs\": (0, 1), \"NEURL2\": (0, 1),\n",
    "    \"DLL3\": (0, 1), \"RELN\": (0, 1), \"Ubsc\": (0, 1), \"SH3KBP1\": (0.5, 0.5),\n",
    "    \"NCSTN\": (0.25, 0.75), \"PROCESS\": (0, 1), \"MIB1\": (0, 1), \"APH1B\": (0.25, 0.75),\n",
    "    \"Ubn\": (0, 1), \"NOTCH4\": (0.3, 0.7), \"NEURL4\": (0, 1), \"ADAM17\": (0.5, 0.5),\n",
    "    \"JAG2\": (0, 1), \"APH1A\": (0.25, 0.75), \"NOTCH3\": (1, 0), \"NOTCH1\": (0.2, 0.8),\n",
    "    \"PSEN2\": (0.25, 0.75), \"MAML1\": (0, 1), \"MAML2\": (0, 1), \"MAML3\": (0, 1), \"NEURL3\": (0, 1), \"LRP8\": (0.5, 0.5),\n",
    "    \"VLDLR\": (0.5, 0.5), \"NOTCH2\": (0.5, 0.5), \"DAB2\": (0, 1), \n",
    "    \"CDK8\": (0, 1), \"CCNC\": (0, 1), \"DLL1\": (0, 1), \"JAG1\": (0, 1), \"ZN2\": (0, 1), \"TBL1X\": (0, 1), \n",
    "    \"HDAC3\": (0, 1), \"SNW1\": (0, 1), \"NCOR1\": (0, 1), \"NCOR2\": (0, 1), \"RBPJ\": (0, 1), \n",
    "    \"SKP1\": (0, 1), \"CUL1\": (0, 1), \"RBX1\": (0, 1), \"FBXW7\": (0, 1),\n",
    "    \"ALPHA3\": (0.25, 0.75), \"ALPHA4\": (0.4, 0.6), \"ALPHA7\": (0.5, 0.5)}\n",
    "\n",
    "modify_parameters(input_cfg, output_cfg, full_params)"
   ]
  }
 ],
 "metadata": {
  "kernelspec": {
   "display_name": "Python 3",
   "language": "python",
   "name": "python3"
  },
  "language_info": {
   "codemirror_mode": {
    "name": "ipython",
    "version": 3
   },
   "file_extension": ".py",
   "mimetype": "text/x-python",
   "name": "python",
   "nbconvert_exporter": "python",
   "pygments_lexer": "ipython3",
   "version": "3.13.3"
  }
 },
 "nbformat": 4,
 "nbformat_minor": 5
}
